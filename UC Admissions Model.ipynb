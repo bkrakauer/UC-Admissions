{
 "cells": [
  {
   "cell_type": "markdown",
   "metadata": {},
   "source": [
    "# K-Nearest Neighbors Model for Admission to UC\n",
    "Barak Krakauer, June 2016   (Updated September, 2016)"
   ]
  },
  {
   "cell_type": "markdown",
   "metadata": {},
   "source": [
    "## About this project:\n",
    "\n",
    "In this project, I create a model that predicts, given a student's GPA and the income of his or her city, whether he or she will be admitted into University of California system. The model is based on data provided by the University of California and by the US Census Bureau. \n",
    "\n",
    "This project makes use of five files:\n",
    "+ UC Admissions by High School for 2015, which states, for every California HS, the number of students (broken down by ethnicity) who applied, were accepted to, and enrolled in UC for 2015.\n",
    "+ UC Admissions GPAs for 2015, which states, for every California HS, the mean GPA of students who applied, were accepted to, and enrolled in UC for 2015.\n",
    "+ Median Income by Zip Code, 2014.\n",
    "+ Zip Code of California High Schools (generated with the help of the Google Maps API)\n",
    "\n",
    "It should be noted that student level data is simulated, since the data is only available at a high school level. Each student is assigned a randomized GPA, with in a normal distribution centered around the student's school's median GPA for applicants. A student is admitted, based on this model, if they have one of the top n GPAs fromthe school, where n is the number of students accepted from the school. Such a model is simplified, compared to the actual admissions process, but generates results that are largely in line with the demographics and GPA of the actual incoming class.\n",
    "\n",
    "This project also involves the larger question of what factors determine whether a student is accepted into a UC. While I did not have access to all of the factors I would have liked, I did have access to data about the ethnicities of students who apply and are accepted into the UC system. Ultimately I determined that, taken alone, a student's ethnicity does correlate with admissions; however, factors such as GPA and (to a lesser extent) citywide income seem to screen off this influence and ultimately outweigh the relevance of ethnicity. This version of the project does not attempt to model the (very small) effects of ethnicity.\n",
    "\n"
   ]
  },
  {
   "cell_type": "code",
   "execution_count": 1,
   "metadata": {
    "collapsed": false
   },
   "outputs": [],
   "source": [
    "# Imports and display settings\n",
    "\n",
    "import os\n",
    "import numpy as np\n",
    "import pandas as pd\n",
    "import matplotlib.pyplot as plt\n",
    "import seaborn as sns\n",
    "import statsmodels.api as sm\n",
    "import statsmodels.formula.api as smf\n",
    "from sklearn import linear_model, neighbors, ensemble, cross_validation, grid_search, metrics\n",
    "import helper as h\n",
    "\n",
    "%matplotlib inline\n",
    "plt.style.use('ggplot')"
   ]
  },
  {
   "cell_type": "markdown",
   "metadata": {},
   "source": [
    "## Importing and Cleaning Data"
   ]
  },
  {
   "cell_type": "markdown",
   "metadata": {},
   "source": [
    "Below, I'll use my helper function to import and do some basic cleaning on our dataframes. I'll be using:\n",
    "+ UC Admissions data from 2015, which contains, for each high school, the number of applicants, admitted students, and mean GPA of applicants and admitted students.\n",
    "+ The median income of each Zip Code in CA\n",
    "+ The Zip Code of each HS in CA"
   ]
  },
  {
   "cell_type": "code",
   "execution_count": 2,
   "metadata": {
    "collapsed": false
   },
   "outputs": [],
   "source": [
    "df = pd.read_csv(\"gpas_w_zips.csv\")\n",
    "df.fillna(0)\n",
    "df[[\"App GPA\", \"Adm GPA\"]] = df[[\"App GPA\", \"Adm GPA\"]].astype(float)\n",
    "df[\"Zip\"] = df[\"Zip\"].astype(int)\n",
    "df[\"Income\"] = df[\"Income\"].astype(int)\n",
    "df[\"Admitted\"] = df[\"Admitted\"].astype(int)\n",
    "df[\"Applied\"] = df[\"Applied\"].astype(int)\n",
    "df.drop(\"Unnamed: 0\", axis=1, inplace=True)"
   ]
  },
  {
   "cell_type": "code",
   "execution_count": 3,
   "metadata": {
    "collapsed": false
   },
   "outputs": [
    {
     "data": {
      "text/html": [
       "<div>\n",
       "<table border=\"1\" class=\"dataframe\">\n",
       "  <thead>\n",
       "    <tr style=\"text-align: right;\">\n",
       "      <th></th>\n",
       "      <th>School Name</th>\n",
       "      <th>City</th>\n",
       "      <th>County</th>\n",
       "      <th>Admitted</th>\n",
       "      <th>Applied</th>\n",
       "      <th>App GPA</th>\n",
       "      <th>Adm GPA</th>\n",
       "      <th>Enrl GPA</th>\n",
       "      <th>Zip</th>\n",
       "      <th>Income</th>\n",
       "    </tr>\n",
       "  </thead>\n",
       "  <tbody>\n",
       "    <tr>\n",
       "      <th>0</th>\n",
       "      <td>A B MILLER HIGH SCHOOL</td>\n",
       "      <td>Fontana</td>\n",
       "      <td>San Bernardino</td>\n",
       "      <td>42</td>\n",
       "      <td>76</td>\n",
       "      <td>3.44</td>\n",
       "      <td>3.71</td>\n",
       "      <td>3.84</td>\n",
       "      <td>92336</td>\n",
       "      <td>81608</td>\n",
       "    </tr>\n",
       "    <tr>\n",
       "      <th>1</th>\n",
       "      <td>ABRAHAM LINCOLN HIGH SCHOOL</td>\n",
       "      <td>Los Angeles</td>\n",
       "      <td>Los Angeles</td>\n",
       "      <td>49</td>\n",
       "      <td>82</td>\n",
       "      <td>3.52</td>\n",
       "      <td>3.80</td>\n",
       "      <td>3.87</td>\n",
       "      <td>90031</td>\n",
       "      <td>34035</td>\n",
       "    </tr>\n",
       "    <tr>\n",
       "      <th>2</th>\n",
       "      <td>ABRAHAM LINCOLN HIGH SCHOOL</td>\n",
       "      <td>San Francisco</td>\n",
       "      <td>San Francisco</td>\n",
       "      <td>100</td>\n",
       "      <td>184</td>\n",
       "      <td>3.54</td>\n",
       "      <td>3.80</td>\n",
       "      <td>3.81</td>\n",
       "      <td>94116</td>\n",
       "      <td>95090</td>\n",
       "    </tr>\n",
       "    <tr>\n",
       "      <th>3</th>\n",
       "      <td>ABRAHAM LINCOLN HIGH SCHOOL</td>\n",
       "      <td>San Jose</td>\n",
       "      <td>Santa Clara</td>\n",
       "      <td>45</td>\n",
       "      <td>78</td>\n",
       "      <td>3.82</td>\n",
       "      <td>4.01</td>\n",
       "      <td>4.11</td>\n",
       "      <td>95126</td>\n",
       "      <td>71585</td>\n",
       "    </tr>\n",
       "    <tr>\n",
       "      <th>4</th>\n",
       "      <td>ACAD FOR ACADEMIC EXCELLENCE</td>\n",
       "      <td>Apple Valley</td>\n",
       "      <td>San Bernardino</td>\n",
       "      <td>8</td>\n",
       "      <td>23</td>\n",
       "      <td>3.63</td>\n",
       "      <td>4.16</td>\n",
       "      <td>NaN</td>\n",
       "      <td>92307</td>\n",
       "      <td>57654</td>\n",
       "    </tr>\n",
       "  </tbody>\n",
       "</table>\n",
       "</div>"
      ],
      "text/plain": [
       "                    School Name           City          County  Admitted  \\\n",
       "0        A B MILLER HIGH SCHOOL        Fontana  San Bernardino        42   \n",
       "1   ABRAHAM LINCOLN HIGH SCHOOL    Los Angeles     Los Angeles        49   \n",
       "2   ABRAHAM LINCOLN HIGH SCHOOL  San Francisco   San Francisco       100   \n",
       "3   ABRAHAM LINCOLN HIGH SCHOOL       San Jose     Santa Clara        45   \n",
       "4  ACAD FOR ACADEMIC EXCELLENCE   Apple Valley  San Bernardino         8   \n",
       "\n",
       "   Applied  App GPA  Adm GPA  Enrl GPA    Zip  Income  \n",
       "0       76     3.44     3.71      3.84  92336   81608  \n",
       "1       82     3.52     3.80      3.87  90031   34035  \n",
       "2      184     3.54     3.80      3.81  94116   95090  \n",
       "3       78     3.82     4.01      4.11  95126   71585  \n",
       "4       23     3.63     4.16       NaN  92307   57654  "
      ]
     },
     "execution_count": 3,
     "metadata": {},
     "output_type": "execute_result"
    }
   ],
   "source": [
    "df.head()"
   ]
  },
  {
   "cell_type": "markdown",
   "metadata": {},
   "source": [
    "## Generate simulated student-level data from the high school-level data"
   ]
  },
  {
   "cell_type": "markdown",
   "metadata": {},
   "source": [
    "This will execute code in the helper function which will generate simulated student-level data. The idea is to pass the function high school level data, and then generate, for each applicant:\n",
    "+ An ethnicity, assigned according to the ethnicities of the applicants from that high school.\n",
    "+ An income, matched to that city's median income\n",
    "+ An admissions decision, determined by whether that student has one of the n highest GPAs in that high school (where n = the number of students admitted).\n",
    "\n",
    "Note that a previous version of this project also simulated student ethnicity."
   ]
  },
  {
   "cell_type": "code",
   "execution_count": 4,
   "metadata": {
    "collapsed": false
   },
   "outputs": [],
   "source": [
    "students = pd.DataFrame({})\n",
    "\n",
    "for i in range(len(df)):\n",
    "    students = students.append(h.simulate_hs(df.iloc[i,:]))"
   ]
  },
  {
   "cell_type": "code",
   "execution_count": 5,
   "metadata": {
    "collapsed": false
   },
   "outputs": [
    {
     "data": {
      "text/html": [
       "<div>\n",
       "<table border=\"1\" class=\"dataframe\">\n",
       "  <thead>\n",
       "    <tr style=\"text-align: right;\">\n",
       "      <th></th>\n",
       "      <th>Admitted</th>\n",
       "      <th>City</th>\n",
       "      <th>County</th>\n",
       "      <th>Income</th>\n",
       "      <th>School</th>\n",
       "      <th>Student GPA</th>\n",
       "    </tr>\n",
       "  </thead>\n",
       "  <tbody>\n",
       "    <tr>\n",
       "      <th>0</th>\n",
       "      <td>0</td>\n",
       "      <td>Fontana</td>\n",
       "      <td>San Bernardino</td>\n",
       "      <td>81608</td>\n",
       "      <td>A B MILLER HIGH SCHOOL</td>\n",
       "      <td>3.15</td>\n",
       "    </tr>\n",
       "    <tr>\n",
       "      <th>1</th>\n",
       "      <td>1</td>\n",
       "      <td>Fontana</td>\n",
       "      <td>San Bernardino</td>\n",
       "      <td>81608</td>\n",
       "      <td>A B MILLER HIGH SCHOOL</td>\n",
       "      <td>3.58</td>\n",
       "    </tr>\n",
       "    <tr>\n",
       "      <th>2</th>\n",
       "      <td>1</td>\n",
       "      <td>Fontana</td>\n",
       "      <td>San Bernardino</td>\n",
       "      <td>81608</td>\n",
       "      <td>A B MILLER HIGH SCHOOL</td>\n",
       "      <td>3.49</td>\n",
       "    </tr>\n",
       "    <tr>\n",
       "      <th>3</th>\n",
       "      <td>1</td>\n",
       "      <td>Fontana</td>\n",
       "      <td>San Bernardino</td>\n",
       "      <td>81608</td>\n",
       "      <td>A B MILLER HIGH SCHOOL</td>\n",
       "      <td>3.47</td>\n",
       "    </tr>\n",
       "    <tr>\n",
       "      <th>4</th>\n",
       "      <td>1</td>\n",
       "      <td>Fontana</td>\n",
       "      <td>San Bernardino</td>\n",
       "      <td>81608</td>\n",
       "      <td>A B MILLER HIGH SCHOOL</td>\n",
       "      <td>3.61</td>\n",
       "    </tr>\n",
       "  </tbody>\n",
       "</table>\n",
       "</div>"
      ],
      "text/plain": [
       "   Admitted     City          County  Income                  School  \\\n",
       "0         0  Fontana  San Bernardino   81608  A B MILLER HIGH SCHOOL   \n",
       "1         1  Fontana  San Bernardino   81608  A B MILLER HIGH SCHOOL   \n",
       "2         1  Fontana  San Bernardino   81608  A B MILLER HIGH SCHOOL   \n",
       "3         1  Fontana  San Bernardino   81608  A B MILLER HIGH SCHOOL   \n",
       "4         1  Fontana  San Bernardino   81608  A B MILLER HIGH SCHOOL   \n",
       "\n",
       "   Student GPA  \n",
       "0         3.15  \n",
       "1         3.58  \n",
       "2         3.49  \n",
       "3         3.47  \n",
       "4         3.61  "
      ]
     },
     "execution_count": 5,
     "metadata": {},
     "output_type": "execute_result"
    }
   ],
   "source": [
    "students.head()"
   ]
  },
  {
   "cell_type": "markdown",
   "metadata": {},
   "source": [
    "## Data Exploration & Visualization"
   ]
  },
  {
   "cell_type": "code",
   "execution_count": 6,
   "metadata": {
    "collapsed": false
   },
   "outputs": [
    {
     "data": {
      "text/plain": [
       "<matplotlib.axes._subplots.AxesSubplot at 0xb92df60>"
      ]
     },
     "execution_count": 6,
     "metadata": {},
     "output_type": "execute_result"
    },
    {
     "data": {
      "image/png": "[encoded data removed]",
      "text/plain": [
       "<matplotlib.figure.Figure at 0x36d2ac8>"
      ]
     },
     "metadata": {},
     "output_type": "display_data"
    }
   ],
   "source": [
    "students[\"Student GPA\"].hist(bins = 20)\n",
    "students[students.Admitted == 1][\"Student GPA\"].hist(bins = 20)"
   ]
  },
  {
   "cell_type": "markdown",
   "metadata": {},
   "source": [
    "Note how the student GPAs and admitted student GPAs both fall in a normal distribution with a similar shape, with the admitted GPAs shifted to the right."
   ]
  },
  {
   "cell_type": "code",
   "execution_count": 7,
   "metadata": {
    "collapsed": false
   },
   "outputs": [
    {
     "data": {
      "text/plain": [
       "<seaborn.axisgrid.FacetGrid at 0xb92d860>"
      ]
     },
     "execution_count": 7,
     "metadata": {},
     "output_type": "execute_result"
    },
    {
     "data": {
      "image/png": "[encoded data removed]",
      "text/plain": [
       "<matplotlib.figure.Figure at 0xb7b90b8>"
      ]
     },
     "metadata": {},
     "output_type": "display_data"
    }
   ],
   "source": [
    "sns.factorplot(x = 'Admitted',\n",
    "    y = 'Student GPA',\n",
    "    data = students,\n",
    "    kind = 'box')"
   ]
  },
  {
   "cell_type": "markdown",
   "metadata": {},
   "source": [
    "Another illustration of the shape of the applicant and admitted GPAs."
   ]
  },
  {
   "cell_type": "markdown",
   "metadata": {},
   "source": [
    "How close is our estimated student-level data to the actual data with respect to academic performance?"
   ]
  },
  {
   "cell_type": "code",
   "execution_count": 8,
   "metadata": {
    "collapsed": false
   },
   "outputs": [
    {
     "name": "stdout",
     "output_type": "stream",
     "text": [
      "Average admitted student gpa (simulated): 3.81903903576\n",
      "Average admitted student gpa (actual):  3.91905052265\n"
     ]
    }
   ],
   "source": [
    "print \"Average admitted student gpa (simulated):\", np.mean(students[students.Admitted == 1][\"Student GPA\"])\n",
    "print \"Average admitted student gpa (actual): \", np.mean(df['Adm GPA'])"
   ]
  },
  {
   "cell_type": "code",
   "execution_count": 9,
   "metadata": {
    "collapsed": false
   },
   "outputs": [
    {
     "data": {
      "text/plain": [
       "<matplotlib.text.Text at 0xd4ca978>"
      ]
     },
     "execution_count": 9,
     "metadata": {},
     "output_type": "execute_result"
    },
    {
     "data": {
      "image/png": "[encoded data removed]",
      "text/plain": [
       "<matplotlib.figure.Figure at 0xbe1f860>"
      ]
     },
     "metadata": {},
     "output_type": "display_data"
    }
   ],
   "source": [
    "fig, (ax1, ax2) = plt.subplots(ncols=2, sharey=True)\n",
    "sns.boxplot(y=\"Student GPA\", data = students[students.Admitted == 1], ax=ax1)\n",
    "sns.axlabel(\" \", \"Estimated Student GPA\")\n",
    "sns.boxplot(y=\"Adm GPA\", data = df, ax=ax2)\n",
    "sns.axlabel(\" \", \"Actual Student GPA\")\n",
    "sns.plt.title(\"Actual vs Estimated Admitted Student GPA\")"
   ]
  },
  {
   "cell_type": "markdown",
   "metadata": {},
   "source": [
    "Future versions of this model will atempt to further refine the GPA code to make the simluated student data better match the aggregate data that is available. It should be noted, however, that the GPA data matches quite closely; the larger variance of the simulated data is to be expected, given that this GPA data is generated per student, rather than per high school."
   ]
  },
  {
   "cell_type": "markdown",
   "metadata": {},
   "source": [
    "## Income, GPA, and Admissions:"
   ]
  },
  {
   "cell_type": "code",
   "execution_count": 10,
   "metadata": {
    "collapsed": false
   },
   "outputs": [
    {
     "data": {
      "text/html": [
       "<div>\n",
       "<table border=\"1\" class=\"dataframe\">\n",
       "  <thead>\n",
       "    <tr style=\"text-align: right;\">\n",
       "      <th></th>\n",
       "      <th>Admitted</th>\n",
       "      <th>Student GPA</th>\n",
       "      <th>Income</th>\n",
       "    </tr>\n",
       "  </thead>\n",
       "  <tbody>\n",
       "    <tr>\n",
       "      <th>Admitted</th>\n",
       "      <td>1.000000</td>\n",
       "      <td>0.655042</td>\n",
       "      <td>0.086701</td>\n",
       "    </tr>\n",
       "    <tr>\n",
       "      <th>Student GPA</th>\n",
       "      <td>0.655042</td>\n",
       "      <td>1.000000</td>\n",
       "      <td>0.305561</td>\n",
       "    </tr>\n",
       "    <tr>\n",
       "      <th>Income</th>\n",
       "      <td>0.086701</td>\n",
       "      <td>0.305561</td>\n",
       "      <td>1.000000</td>\n",
       "    </tr>\n",
       "  </tbody>\n",
       "</table>\n",
       "</div>"
      ],
      "text/plain": [
       "             Admitted  Student GPA    Income\n",
       "Admitted     1.000000     0.655042  0.086701\n",
       "Student GPA  0.655042     1.000000  0.305561\n",
       "Income       0.086701     0.305561  1.000000"
      ]
     },
     "execution_count": 10,
     "metadata": {},
     "output_type": "execute_result"
    }
   ],
   "source": [
    "students[['Admitted', 'Student GPA', 'Income']].corr()"
   ]
  },
  {
   "cell_type": "code",
   "execution_count": 11,
   "metadata": {
    "collapsed": false
   },
   "outputs": [
    {
     "data": {
      "text/plain": [
       "(0.0, 250000.0)"
      ]
     },
     "execution_count": 11,
     "metadata": {},
     "output_type": "execute_result"
    },
    {
     "data": {
      "image/png": "[encoded data removed]",
      "text/plain": [
       "<matplotlib.figure.Figure at 0xc6f10b8>"
      ]
     },
     "metadata": {},
     "output_type": "display_data"
    }
   ],
   "source": [
    "color = students.Admitted.map({0: 'red', 1: 'green'})\n",
    "axes = students.plot('Student GPA', 'Income', kind = 'scatter', c = color)\n",
    "axes.set_title(\"Student GPA, city's income, and admissions\", fontsize = 16)\n",
    "\n",
    "axes.set_xlim(2.0)\n",
    "\n",
    "axes.set_ylim(.0)"
   ]
  },
  {
   "cell_type": "markdown",
   "metadata": {},
   "source": [
    "The outliers toward the top of this graph represent Menlo Atherton High School in Atherton. 175 students applied from there, and 121 were admitted. The median income of this zip code is 216905."
   ]
  },
  {
   "cell_type": "markdown",
   "metadata": {},
   "source": [
    "It is obvious, looking at the X-axis, that higher GPAs result in greater admissions. Looking at the Y-axis, one can also see that admissions are slightly top-heavy, so the effect there is evident as well. It should also be noted that there is a great deal of \"locality\", in the sense that admits and non-admits cluster together. This suggests that KNN might be an effective model."
   ]
  },
  {
   "cell_type": "code",
   "execution_count": 12,
   "metadata": {
    "collapsed": false
   },
   "outputs": [],
   "source": [
    "df[\"Percent\"] = df.Admitted * 1.0 / df.Applied"
   ]
  },
  {
   "cell_type": "code",
   "execution_count": 13,
   "metadata": {
    "collapsed": false
   },
   "outputs": [
    {
     "data": {
      "text/plain": [
       "(0, 200000)"
      ]
     },
     "execution_count": 13,
     "metadata": {},
     "output_type": "execute_result"
    },
    {
     "data": {
      "image/png": "[encoded data removed]",
      "text/plain": [
       "<matplotlib.figure.Figure at 0xbe2a4e0>"
      ]
     },
     "metadata": {},
     "output_type": "display_data"
    }
   ],
   "source": [
    "a = sns.regplot(x=\"Income\", y=\"Percent\", data=df)\n",
    "a.set_ylim(0,1)\n",
    "a.set_xlim(0,200000)"
   ]
  },
  {
   "cell_type": "code",
   "execution_count": 14,
   "metadata": {
    "collapsed": false
   },
   "outputs": [
    {
     "data": {
      "text/plain": [
       "(0, 1)"
      ]
     },
     "execution_count": 14,
     "metadata": {},
     "output_type": "execute_result"
    },
    {
     "data": {
      "image/png": "[encoded data removed]",
      "text/plain": [
       "<matplotlib.figure.Figure at 0xebd16a0>"
      ]
     },
     "metadata": {},
     "output_type": "display_data"
    }
   ],
   "source": [
    "a = sns.regplot(x=\"Adm GPA\", y=\"Percent\", data=df)\n",
    "a.set_ylim(0,1)"
   ]
  },
  {
   "cell_type": "markdown",
   "metadata": {},
   "source": [
    "These graphs (looking at the actual, per high school data) show that the percentage of students who are admitted from a high school are positively correlated with the school's median income and the GPA of its students though R^2 is rather high."
   ]
  },
  {
   "cell_type": "markdown",
   "metadata": {},
   "source": [
    "## Building Models"
   ]
  },
  {
   "cell_type": "markdown",
   "metadata": {},
   "source": [
    "We will add a colum here to represent normalized income. This is because median income is a 5- or 6-digit integer, while the other scalar value, GPA, is on a scale of (roughly) 0-5. This will help the logistic regression, below."
   ]
  },
  {
   "cell_type": "code",
   "execution_count": 15,
   "metadata": {
    "collapsed": false
   },
   "outputs": [],
   "source": [
    "# Add a column of normalized student income to match the scale of GPA\n",
    "maxval = max(students.Income) * 1.0\n",
    "minval = min(students.Income) * 1.0\n",
    "students[\"Income_N\"] = students.Income.apply(lambda x: ((x - minval) / (maxval - minval)))"
   ]
  },
  {
   "cell_type": "code",
   "execution_count": 16,
   "metadata": {
    "collapsed": false
   },
   "outputs": [
    {
     "data": {
      "text/html": [
       "<div>\n",
       "<table border=\"1\" class=\"dataframe\">\n",
       "  <thead>\n",
       "    <tr style=\"text-align: right;\">\n",
       "      <th></th>\n",
       "      <th>Admitted</th>\n",
       "      <th>City</th>\n",
       "      <th>County</th>\n",
       "      <th>Income</th>\n",
       "      <th>School</th>\n",
       "      <th>Student GPA</th>\n",
       "      <th>Income_N</th>\n",
       "    </tr>\n",
       "  </thead>\n",
       "  <tbody>\n",
       "    <tr>\n",
       "      <th>0</th>\n",
       "      <td>0</td>\n",
       "      <td>Fontana</td>\n",
       "      <td>San Bernardino</td>\n",
       "      <td>81608</td>\n",
       "      <td>A B MILLER HIGH SCHOOL</td>\n",
       "      <td>3.15</td>\n",
       "      <td>0.366415</td>\n",
       "    </tr>\n",
       "    <tr>\n",
       "      <th>1</th>\n",
       "      <td>1</td>\n",
       "      <td>Fontana</td>\n",
       "      <td>San Bernardino</td>\n",
       "      <td>81608</td>\n",
       "      <td>A B MILLER HIGH SCHOOL</td>\n",
       "      <td>3.58</td>\n",
       "      <td>0.366415</td>\n",
       "    </tr>\n",
       "    <tr>\n",
       "      <th>2</th>\n",
       "      <td>1</td>\n",
       "      <td>Fontana</td>\n",
       "      <td>San Bernardino</td>\n",
       "      <td>81608</td>\n",
       "      <td>A B MILLER HIGH SCHOOL</td>\n",
       "      <td>3.49</td>\n",
       "      <td>0.366415</td>\n",
       "    </tr>\n",
       "    <tr>\n",
       "      <th>3</th>\n",
       "      <td>1</td>\n",
       "      <td>Fontana</td>\n",
       "      <td>San Bernardino</td>\n",
       "      <td>81608</td>\n",
       "      <td>A B MILLER HIGH SCHOOL</td>\n",
       "      <td>3.47</td>\n",
       "      <td>0.366415</td>\n",
       "    </tr>\n",
       "    <tr>\n",
       "      <th>4</th>\n",
       "      <td>1</td>\n",
       "      <td>Fontana</td>\n",
       "      <td>San Bernardino</td>\n",
       "      <td>81608</td>\n",
       "      <td>A B MILLER HIGH SCHOOL</td>\n",
       "      <td>3.61</td>\n",
       "      <td>0.366415</td>\n",
       "    </tr>\n",
       "  </tbody>\n",
       "</table>\n",
       "</div>"
      ],
      "text/plain": [
       "   Admitted     City          County  Income                  School  \\\n",
       "0         0  Fontana  San Bernardino   81608  A B MILLER HIGH SCHOOL   \n",
       "1         1  Fontana  San Bernardino   81608  A B MILLER HIGH SCHOOL   \n",
       "2         1  Fontana  San Bernardino   81608  A B MILLER HIGH SCHOOL   \n",
       "3         1  Fontana  San Bernardino   81608  A B MILLER HIGH SCHOOL   \n",
       "4         1  Fontana  San Bernardino   81608  A B MILLER HIGH SCHOOL   \n",
       "\n",
       "   Student GPA  Income_N  \n",
       "0         3.15  0.366415  \n",
       "1         3.58  0.366415  \n",
       "2         3.49  0.366415  \n",
       "3         3.47  0.366415  \n",
       "4         3.61  0.366415  "
      ]
     },
     "execution_count": 16,
     "metadata": {},
     "output_type": "execute_result"
    }
   ],
   "source": [
    "students.head()"
   ]
  },
  {
   "cell_type": "code",
   "execution_count": 17,
   "metadata": {
    "collapsed": true
   },
   "outputs": [],
   "source": [
    "students.reset_index(drop=True, inplace=True)"
   ]
  },
  {
   "cell_type": "code",
   "execution_count": 18,
   "metadata": {
    "collapsed": false
   },
   "outputs": [
    {
     "name": "stdout",
     "output_type": "stream",
     "text": [
      "90333\n",
      "54200\n",
      "36133\n"
     ]
    }
   ],
   "source": [
    "# Separate the data into training and testing sets.\n",
    "print len(students)\n",
    "train_df = students.sample(frac = .6)\n",
    "print len(train_df)\n",
    "test_df = students.drop(train_df.index)\n",
    "print len(test_df)"
   ]
  },
  {
   "cell_type": "code",
   "execution_count": 19,
   "metadata": {
    "collapsed": false
   },
   "outputs": [],
   "source": [
    "# Setting the features of our model\n",
    "\n",
    "train_X = train_df[['Student GPA', 'Income']]\n",
    "train_y = train_df.Admitted\n",
    "test_X = test_df[['Student GPA', 'Income']]\n",
    "test_y = test_df.Admitted\n",
    "\n",
    "#These are normalized versions of the training and testing data (where income is scaled)\n",
    "\n",
    "train_X_n = train_df[['Student GPA', 'Income_N']]\n",
    "test_X_n = test_df[['Student GPA', 'Income_N']]"
   ]
  },
  {
   "cell_type": "markdown",
   "metadata": {},
   "source": [
    "## Model 1: Logistic Regression"
   ]
  },
  {
   "cell_type": "code",
   "execution_count": 20,
   "metadata": {
    "collapsed": false
   },
   "outputs": [
    {
     "data": {
      "text/plain": [
       "LogisticRegression(C=1.0, class_weight=None, dual=False, fit_intercept=True,\n",
       "          intercept_scaling=1, max_iter=100, multi_class='ovr', n_jobs=1,\n",
       "          penalty='l2', random_state=None, solver='liblinear', tol=0.0001,\n",
       "          verbose=0, warm_start=False)"
      ]
     },
     "execution_count": 20,
     "metadata": {},
     "output_type": "execute_result"
    }
   ],
   "source": [
    "logmodel = linear_model.LogisticRegression()\n",
    "logmodel.fit(train_X_n, train_y)"
   ]
  },
  {
   "cell_type": "code",
   "execution_count": 21,
   "metadata": {
    "collapsed": false
   },
   "outputs": [
    {
     "data": {
      "text/plain": [
       "0.83282287822878232"
      ]
     },
     "execution_count": 21,
     "metadata": {},
     "output_type": "execute_result"
    }
   ],
   "source": [
    "# Score the model based on training data.\n",
    "logmodel.score(train_X_n, train_y)"
   ]
  },
  {
   "cell_type": "code",
   "execution_count": 22,
   "metadata": {
    "collapsed": false
   },
   "outputs": [
    {
     "data": {
      "text/plain": [
       "0.83250767996014718"
      ]
     },
     "execution_count": 22,
     "metadata": {},
     "output_type": "execute_result"
    }
   ],
   "source": [
    "# Score the model based on testing data.\n",
    "logmodel.score(test_X_n, test_y)"
   ]
  },
  {
   "cell_type": "code",
   "execution_count": 23,
   "metadata": {
    "collapsed": false
   },
   "outputs": [
    {
     "data": {
      "text/plain": [
       "0.60942804428044284"
      ]
     },
     "execution_count": 23,
     "metadata": {},
     "output_type": "execute_result"
    }
   ],
   "source": [
    "logmodel2 = linear_model.LogisticRegression()\n",
    "logmodel.fit(train_X, train_y)\n",
    "logmodel.score(train_X, train_y)"
   ]
  },
  {
   "cell_type": "markdown",
   "metadata": {},
   "source": [
    "## Model 2: K Nearest Neighbors"
   ]
  },
  {
   "cell_type": "code",
   "execution_count": 24,
   "metadata": {
    "collapsed": false
   },
   "outputs": [
    {
     "data": {
      "text/plain": [
       "KNeighborsClassifier(algorithm='auto', leaf_size=30, metric='minkowski',\n",
       "           metric_params=None, n_jobs=1, n_neighbors=5, p=2,\n",
       "           weights='distance')"
      ]
     },
     "execution_count": 24,
     "metadata": {},
     "output_type": "execute_result"
    }
   ],
   "source": [
    "knnmodel = neighbors.KNeighborsClassifier(n_neighbors = 5, weights = 'distance')\n",
    "knnmodel.fit(train_X, train_y)"
   ]
  },
  {
   "cell_type": "code",
   "execution_count": 25,
   "metadata": {
    "collapsed": false
   },
   "outputs": [
    {
     "data": {
      "text/plain": [
       "0.94833949513534377"
      ]
     },
     "execution_count": 25,
     "metadata": {},
     "output_type": "execute_result"
    }
   ],
   "source": [
    "cross_validation.cross_val_score(knnmodel, train_X, train_y, cv = 5).mean()\n"
   ]
  },
  {
   "cell_type": "code",
   "execution_count": 26,
   "metadata": {
    "collapsed": false
   },
   "outputs": [
    {
     "data": {
      "text/plain": [
       "0.94755486674231315"
      ]
     },
     "execution_count": 26,
     "metadata": {},
     "output_type": "execute_result"
    }
   ],
   "source": [
    "knnmodel.score(test_X, test_y)"
   ]
  },
  {
   "cell_type": "markdown",
   "metadata": {},
   "source": [
    "## Model 3: Random Forest"
   ]
  },
  {
   "cell_type": "code",
   "execution_count": 27,
   "metadata": {
    "collapsed": false
   },
   "outputs": [
    {
     "data": {
      "text/plain": [
       "RandomForestClassifier(bootstrap=True, class_weight=None, criterion='gini',\n",
       "            max_depth=None, max_features='auto', max_leaf_nodes=None,\n",
       "            min_samples_leaf=1, min_samples_split=2,\n",
       "            min_weight_fraction_leaf=0.0, n_estimators=1000, n_jobs=1,\n",
       "            oob_score=True, random_state=None, verbose=0, warm_start=False)"
      ]
     },
     "execution_count": 27,
     "metadata": {},
     "output_type": "execute_result"
    }
   ],
   "source": [
    "rfmodel = ensemble.RandomForestClassifier(n_estimators = 1000, oob_score = True)\n",
    "\n",
    "rfmodel.fit(train_X, train_y)"
   ]
  },
  {
   "cell_type": "code",
   "execution_count": 28,
   "metadata": {
    "collapsed": false
   },
   "outputs": [
    {
     "data": {
      "text/plain": [
       "0.91998154981549818"
      ]
     },
     "execution_count": 28,
     "metadata": {},
     "output_type": "execute_result"
    }
   ],
   "source": [
    "rfmodel.oob_score_"
   ]
  },
  {
   "cell_type": "code",
   "execution_count": 29,
   "metadata": {
    "collapsed": false
   },
   "outputs": [
    {
     "data": {
      "text/plain": [
       "0.91153149097022335"
      ]
     },
     "execution_count": 29,
     "metadata": {},
     "output_type": "execute_result"
    }
   ],
   "source": [
    "cross_validation.cross_val_score(rfmodel, train_X, train_y, cv = 5).mean()"
   ]
  },
  {
   "cell_type": "code",
   "execution_count": 30,
   "metadata": {
    "collapsed": false
   },
   "outputs": [
    {
     "data": {
      "text/plain": [
       "0.91755458998699246"
      ]
     },
     "execution_count": 30,
     "metadata": {},
     "output_type": "execute_result"
    }
   ],
   "source": [
    "rfmodel.score(test_X, test_y)"
   ]
  },
  {
   "cell_type": "markdown",
   "metadata": {},
   "source": [
    "The KNN and Random Forest models seem most promising. I'm going to focus on developing the KNN model, however, since a) it has the highest scores given the training data and b) the algorithm is relatively intuitive and straightforward."
   ]
  },
  {
   "cell_type": "markdown",
   "metadata": {},
   "source": [
    "## A closer look at the model's features"
   ]
  },
  {
   "cell_type": "code",
   "execution_count": 31,
   "metadata": {
    "collapsed": false
   },
   "outputs": [
    {
     "data": {
      "text/plain": [
       "[(0.56928259843273554, 'Student GPA'), (0.4307174015672649, 'Income')]"
      ]
     },
     "execution_count": 31,
     "metadata": {},
     "output_type": "execute_result"
    }
   ],
   "source": [
    "sorted(zip(rfmodel.feature_importances_, train_X.columns.values), reverse = True)"
   ]
  },
  {
   "cell_type": "code",
   "execution_count": 32,
   "metadata": {
    "collapsed": false
   },
   "outputs": [
    {
     "name": "stdout",
     "output_type": "stream",
     "text": [
      "KNN score with income alone:\n",
      "0.568468645118\n",
      "KNN score with GPA alone:\n",
      "0.796309678178\n"
     ]
    }
   ],
   "source": [
    "print \"KNN score with income alone:\"\n",
    "knnmodeli = neighbors.KNeighborsClassifier(n_neighbors = 5, weights = 'distance')\n",
    "knnmodeli.fit(train_X[[\"Income\"]], train_y)\n",
    "print cross_validation.cross_val_score(knnmodeli, train_X[\"Income\"].reshape(-1, 1), train_y, cv = 5).mean()\n",
    "\n",
    "print \"KNN score with GPA alone:\"\n",
    "knnmodelg = neighbors.KNeighborsClassifier(n_neighbors = 5, weights = 'distance')\n",
    "knnmodelg.fit(train_X[[\"Student GPA\"]], train_y)\n",
    "print cross_validation.cross_val_score(knnmodelg, train_X[\"Student GPA\"].reshape(-1,1), train_y, cv = 5).mean()"
   ]
  },
  {
   "cell_type": "markdown",
   "metadata": {},
   "source": [
    "## Tuning the Model"
   ]
  },
  {
   "cell_type": "markdown",
   "metadata": {},
   "source": [
    "Now, we'll use gridsearch to find the best hyperparameters for KNN. The most important parameters in the model are the number of neighbors to sample and how to weight the neighbors. The cell below will try all permutations of weights and neighbors (for k up to 20) to determine the best model, given the training data."
   ]
  },
  {
   "cell_type": "code",
   "execution_count": 33,
   "metadata": {
    "collapsed": false
   },
   "outputs": [],
   "source": [
    "# Find the best value for k and whether weights should be uniform or distance\n",
    "\n",
    "k_nn = range(1, 20)\n",
    "\n",
    "gs = grid_search.GridSearchCV(\n",
    "    estimator = neighbors.KNeighborsClassifier(),\n",
    "    param_grid = {'n_neighbors': k_nn, 'weights' : ['distance', 'uniform']},\n",
    "    cv = cross_validation.KFold(len(train_df), n_folds = 10)\n",
    ")\n",
    "\n",
    "gs.fit(train_X, train_y)  # Note that train_Xmin includes on GPA and income from the training DF.\n",
    "\n",
    "score_df = pd.DataFrame({'k': [score.parameters['n_neighbors'] for score in gs.grid_scores_],\n",
    "    'Weights': [score.parameters['weights'] for score in gs.grid_scores_],\n",
    "    'Score': [score.mean_validation_score for score in gs.grid_scores_]})"
   ]
  },
  {
   "cell_type": "code",
   "execution_count": 34,
   "metadata": {
    "collapsed": false
   },
   "outputs": [
    {
     "data": {
      "text/html": [
       "<div>\n",
       "<table border=\"1\" class=\"dataframe\">\n",
       "  <thead>\n",
       "    <tr style=\"text-align: right;\">\n",
       "      <th></th>\n",
       "      <th>Score</th>\n",
       "      <th>Weights</th>\n",
       "      <th>k</th>\n",
       "    </tr>\n",
       "  </thead>\n",
       "  <tbody>\n",
       "    <tr>\n",
       "      <th>8</th>\n",
       "      <td>0.950074</td>\n",
       "      <td>distance</td>\n",
       "      <td>5</td>\n",
       "    </tr>\n",
       "    <tr>\n",
       "      <th>14</th>\n",
       "      <td>0.950018</td>\n",
       "      <td>distance</td>\n",
       "      <td>8</td>\n",
       "    </tr>\n",
       "    <tr>\n",
       "      <th>4</th>\n",
       "      <td>0.950018</td>\n",
       "      <td>distance</td>\n",
       "      <td>3</td>\n",
       "    </tr>\n",
       "    <tr>\n",
       "      <th>10</th>\n",
       "      <td>0.949797</td>\n",
       "      <td>distance</td>\n",
       "      <td>6</td>\n",
       "    </tr>\n",
       "    <tr>\n",
       "      <th>16</th>\n",
       "      <td>0.949742</td>\n",
       "      <td>distance</td>\n",
       "      <td>9</td>\n",
       "    </tr>\n",
       "    <tr>\n",
       "      <th>12</th>\n",
       "      <td>0.949742</td>\n",
       "      <td>distance</td>\n",
       "      <td>7</td>\n",
       "    </tr>\n",
       "    <tr>\n",
       "      <th>6</th>\n",
       "      <td>0.949723</td>\n",
       "      <td>distance</td>\n",
       "      <td>4</td>\n",
       "    </tr>\n",
       "    <tr>\n",
       "      <th>20</th>\n",
       "      <td>0.949649</td>\n",
       "      <td>distance</td>\n",
       "      <td>11</td>\n",
       "    </tr>\n",
       "    <tr>\n",
       "      <th>18</th>\n",
       "      <td>0.949557</td>\n",
       "      <td>distance</td>\n",
       "      <td>10</td>\n",
       "    </tr>\n",
       "    <tr>\n",
       "      <th>22</th>\n",
       "      <td>0.949465</td>\n",
       "      <td>distance</td>\n",
       "      <td>12</td>\n",
       "    </tr>\n",
       "    <tr>\n",
       "      <th>26</th>\n",
       "      <td>0.949336</td>\n",
       "      <td>distance</td>\n",
       "      <td>14</td>\n",
       "    </tr>\n",
       "    <tr>\n",
       "      <th>24</th>\n",
       "      <td>0.949299</td>\n",
       "      <td>distance</td>\n",
       "      <td>13</td>\n",
       "    </tr>\n",
       "    <tr>\n",
       "      <th>28</th>\n",
       "      <td>0.949096</td>\n",
       "      <td>distance</td>\n",
       "      <td>15</td>\n",
       "    </tr>\n",
       "    <tr>\n",
       "      <th>30</th>\n",
       "      <td>0.949059</td>\n",
       "      <td>distance</td>\n",
       "      <td>16</td>\n",
       "    </tr>\n",
       "    <tr>\n",
       "      <th>1</th>\n",
       "      <td>0.949041</td>\n",
       "      <td>uniform</td>\n",
       "      <td>1</td>\n",
       "    </tr>\n",
       "    <tr>\n",
       "      <th>0</th>\n",
       "      <td>0.949041</td>\n",
       "      <td>distance</td>\n",
       "      <td>1</td>\n",
       "    </tr>\n",
       "    <tr>\n",
       "      <th>36</th>\n",
       "      <td>0.949022</td>\n",
       "      <td>distance</td>\n",
       "      <td>19</td>\n",
       "    </tr>\n",
       "    <tr>\n",
       "      <th>34</th>\n",
       "      <td>0.948985</td>\n",
       "      <td>distance</td>\n",
       "      <td>18</td>\n",
       "    </tr>\n",
       "    <tr>\n",
       "      <th>32</th>\n",
       "      <td>0.948930</td>\n",
       "      <td>distance</td>\n",
       "      <td>17</td>\n",
       "    </tr>\n",
       "    <tr>\n",
       "      <th>2</th>\n",
       "      <td>0.948026</td>\n",
       "      <td>distance</td>\n",
       "      <td>2</td>\n",
       "    </tr>\n",
       "    <tr>\n",
       "      <th>5</th>\n",
       "      <td>0.945424</td>\n",
       "      <td>uniform</td>\n",
       "      <td>3</td>\n",
       "    </tr>\n",
       "    <tr>\n",
       "      <th>3</th>\n",
       "      <td>0.942491</td>\n",
       "      <td>uniform</td>\n",
       "      <td>2</td>\n",
       "    </tr>\n",
       "    <tr>\n",
       "      <th>9</th>\n",
       "      <td>0.942066</td>\n",
       "      <td>uniform</td>\n",
       "      <td>5</td>\n",
       "    </tr>\n",
       "    <tr>\n",
       "      <th>7</th>\n",
       "      <td>0.941753</td>\n",
       "      <td>uniform</td>\n",
       "      <td>4</td>\n",
       "    </tr>\n",
       "    <tr>\n",
       "      <th>11</th>\n",
       "      <td>0.939280</td>\n",
       "      <td>uniform</td>\n",
       "      <td>6</td>\n",
       "    </tr>\n",
       "    <tr>\n",
       "      <th>13</th>\n",
       "      <td>0.938579</td>\n",
       "      <td>uniform</td>\n",
       "      <td>7</td>\n",
       "    </tr>\n",
       "    <tr>\n",
       "      <th>15</th>\n",
       "      <td>0.935572</td>\n",
       "      <td>uniform</td>\n",
       "      <td>8</td>\n",
       "    </tr>\n",
       "    <tr>\n",
       "      <th>17</th>\n",
       "      <td>0.934465</td>\n",
       "      <td>uniform</td>\n",
       "      <td>9</td>\n",
       "    </tr>\n",
       "    <tr>\n",
       "      <th>19</th>\n",
       "      <td>0.933672</td>\n",
       "      <td>uniform</td>\n",
       "      <td>10</td>\n",
       "    </tr>\n",
       "    <tr>\n",
       "      <th>21</th>\n",
       "      <td>0.932435</td>\n",
       "      <td>uniform</td>\n",
       "      <td>11</td>\n",
       "    </tr>\n",
       "    <tr>\n",
       "      <th>23</th>\n",
       "      <td>0.930886</td>\n",
       "      <td>uniform</td>\n",
       "      <td>12</td>\n",
       "    </tr>\n",
       "    <tr>\n",
       "      <th>25</th>\n",
       "      <td>0.928635</td>\n",
       "      <td>uniform</td>\n",
       "      <td>13</td>\n",
       "    </tr>\n",
       "    <tr>\n",
       "      <th>27</th>\n",
       "      <td>0.926827</td>\n",
       "      <td>uniform</td>\n",
       "      <td>14</td>\n",
       "    </tr>\n",
       "    <tr>\n",
       "      <th>29</th>\n",
       "      <td>0.924852</td>\n",
       "      <td>uniform</td>\n",
       "      <td>15</td>\n",
       "    </tr>\n",
       "    <tr>\n",
       "      <th>31</th>\n",
       "      <td>0.923100</td>\n",
       "      <td>uniform</td>\n",
       "      <td>16</td>\n",
       "    </tr>\n",
       "    <tr>\n",
       "      <th>33</th>\n",
       "      <td>0.920775</td>\n",
       "      <td>uniform</td>\n",
       "      <td>17</td>\n",
       "    </tr>\n",
       "    <tr>\n",
       "      <th>35</th>\n",
       "      <td>0.920018</td>\n",
       "      <td>uniform</td>\n",
       "      <td>18</td>\n",
       "    </tr>\n",
       "    <tr>\n",
       "      <th>37</th>\n",
       "      <td>0.916402</td>\n",
       "      <td>uniform</td>\n",
       "      <td>19</td>\n",
       "    </tr>\n",
       "  </tbody>\n",
       "</table>\n",
       "</div>"
      ],
      "text/plain": [
       "       Score   Weights   k\n",
       "8   0.950074  distance   5\n",
       "14  0.950018  distance   8\n",
       "4   0.950018  distance   3\n",
       "10  0.949797  distance   6\n",
       "16  0.949742  distance   9\n",
       "12  0.949742  distance   7\n",
       "6   0.949723  distance   4\n",
       "20  0.949649  distance  11\n",
       "18  0.949557  distance  10\n",
       "22  0.949465  distance  12\n",
       "26  0.949336  distance  14\n",
       "24  0.949299  distance  13\n",
       "28  0.949096  distance  15\n",
       "30  0.949059  distance  16\n",
       "1   0.949041   uniform   1\n",
       "0   0.949041  distance   1\n",
       "36  0.949022  distance  19\n",
       "34  0.948985  distance  18\n",
       "32  0.948930  distance  17\n",
       "2   0.948026  distance   2\n",
       "5   0.945424   uniform   3\n",
       "3   0.942491   uniform   2\n",
       "9   0.942066   uniform   5\n",
       "7   0.941753   uniform   4\n",
       "11  0.939280   uniform   6\n",
       "13  0.938579   uniform   7\n",
       "15  0.935572   uniform   8\n",
       "17  0.934465   uniform   9\n",
       "19  0.933672   uniform  10\n",
       "21  0.932435   uniform  11\n",
       "23  0.930886   uniform  12\n",
       "25  0.928635   uniform  13\n",
       "27  0.926827   uniform  14\n",
       "29  0.924852   uniform  15\n",
       "31  0.923100   uniform  16\n",
       "33  0.920775   uniform  17\n",
       "35  0.920018   uniform  18\n",
       "37  0.916402   uniform  19"
      ]
     },
     "execution_count": 34,
     "metadata": {},
     "output_type": "execute_result"
    }
   ],
   "source": [
    "score_df.sort_values(\"Score\", ascending=False)"
   ]
  },
  {
   "cell_type": "markdown",
   "metadata": {},
   "source": [
    "In the current version of this notebook, the model with 5 neighbors and distance weighting does the best. Other runs, however, may result in different results, so for full generality, the final version of the model will simply use the highest score from this ranking."
   ]
  },
  {
   "cell_type": "code",
   "execution_count": 35,
   "metadata": {
    "collapsed": false
   },
   "outputs": [
    {
     "name": "stdout",
     "output_type": "stream",
     "text": [
      "5\n"
     ]
    }
   ],
   "source": [
    "optimal_k = score_df[score_df.Score == max(score_df.Score)].iloc[0, 2]\n",
    "print optimal_k"
   ]
  },
  {
   "cell_type": "markdown",
   "metadata": {},
   "source": [
    "## Applying the final model to the test data!"
   ]
  },
  {
   "cell_type": "code",
   "execution_count": 36,
   "metadata": {
    "collapsed": false
   },
   "outputs": [
    {
     "data": {
      "text/plain": [
       "0.94833949513534377"
      ]
     },
     "execution_count": 36,
     "metadata": {},
     "output_type": "execute_result"
    }
   ],
   "source": [
    "knnmodel = neighbors.KNeighborsClassifier(n_neighbors = optimal_k, weights = 'distance')\n",
    "knnmodel.fit(train_X, train_y)\n",
    "cross_validation.cross_val_score(knnmodel, train_X, train_y, cv = 5).mean()\n"
   ]
  },
  {
   "cell_type": "markdown",
   "metadata": {},
   "source": [
    "How does our model do on the testing data?"
   ]
  },
  {
   "cell_type": "code",
   "execution_count": 37,
   "metadata": {
    "collapsed": false
   },
   "outputs": [
    {
     "data": {
      "text/plain": [
       "0.94755486674231315"
      ]
     },
     "execution_count": 37,
     "metadata": {},
     "output_type": "execute_result"
    }
   ],
   "source": [
    "test_Xmin = test_df[[\"Student GPA\", \"Income\"]]\n",
    "\n",
    "knnmodel.score(test_X, test_y)"
   ]
  },
  {
   "cell_type": "markdown",
   "metadata": {},
   "source": [
    "These scores are promising. We'll evaluate the model more carefully now by looking into some more advanced metrics. First, we'll look at the confusion matrix when applied to the testing data:"
   ]
  },
  {
   "cell_type": "code",
   "execution_count": 38,
   "metadata": {
    "collapsed": true
   },
   "outputs": [],
   "source": [
    "test_df[\"y_hat\"] = knnmodel.predict(test_X) "
   ]
  },
  {
   "cell_type": "code",
   "execution_count": 39,
   "metadata": {
    "collapsed": false
   },
   "outputs": [
    {
     "name": "stdout",
     "output_type": "stream",
     "text": [
      "KNN Model on Testing Data Set:\n",
      "True positives: 20890 Rate (Sensitivity): 0.954186269584\n",
      "False positives: 892 Rate (Fall-out): 0.0626404494382\n",
      "True negatives: 13348 Rate: 0.937359550562\n",
      "False negatives: 1003 Rate: 0.0458137304161\n"
     ]
    }
   ],
   "source": [
    "print \"KNN Model on Testing Data Set:\"\n",
    "tp = len(test_df[(test_df.Admitted == 1) & (test_df.y_hat == 1)])\n",
    "fp = len(test_df[(test_df.Admitted == 0) & (test_df.y_hat == 1)])\n",
    "tn = len(test_df[(test_df.Admitted == 0) & (test_df.y_hat == 0)])\n",
    "fn = len(test_df[(test_df.Admitted == 1) & (test_df.y_hat == 0)])\n",
    "\n",
    "print \"True positives:\", tp, \"Rate (Sensitivity):\", float(tp) / len(test_df[test_df.Admitted == 1])\n",
    "print \"False positives:\", fp, \"Rate (Fall-out):\", float(fp) / len(test_df[test_df.Admitted == 0])\n",
    "print \"True negatives:\", tn, \"Rate:\", float(tn) / len(test_df[test_df.Admitted == 0])\n",
    "print \"False negatives:\", fn, \"Rate:\", float(fn) / len(test_df[test_df.Admitted == 1])"
   ]
  },
  {
   "cell_type": "markdown",
   "metadata": {},
   "source": [
    "We can also visualize the models' performance by looking at the ROC (Receiver Operating Curve), which plots the true positive rate against the false-positive rate -- this plot is represented in red. As the model correctly predicts admissions, the red line moves toward y=1; false positives pull the line toward x=1. They grey dashed line represents the model guessing at chance. The AUC (Area Under Curve) measures the portion of the graph beneath the red region."
   ]
  },
  {
   "cell_type": "code",
   "execution_count": 40,
   "metadata": {
    "collapsed": false
   },
   "outputs": [
    {
     "data": {
      "image/png": "[encoded data removed]",
      "text/plain": [
       "<matplotlib.figure.Figure at 0xd4122b0>"
      ]
     },
     "metadata": {},
     "output_type": "display_data"
    }
   ],
   "source": [
    "fpr, tpr, thresholds = metrics.roc_curve(test_df.Admitted, test_df.y_hat)\n",
    "\n",
    "plt.figure()\n",
    "plt.plot(fpr, tpr, label = 'KNN ROC curve (area = %0.2f)' % metrics.auc(fpr, tpr))\n",
    "plt.plot([0, 1], [0, 1], 'k--')\n",
    "plt.xlim([.0, 1.])\n",
    "plt.ylim([.0, 1.1])\n",
    "plt.xlabel('FPR/Fall-out')\n",
    "plt.ylabel('TPR/Sensitivity')\n",
    "plt.title(\"ROC for KNN (test data)\")\n",
    "plt.legend(loc = 'lower right')\n",
    "plt.show()"
   ]
  }
 ],
 "metadata": {
  "kernelspec": {
   "display_name": "Python 2",
   "language": "python",
   "name": "python2"
  },
  "language_info": {
   "codemirror_mode": {
    "name": "ipython",
    "version": 2
   },
   "file_extension": ".py",
   "mimetype": "text/x-python",
   "name": "python",
   "nbconvert_exporter": "python",
   "pygments_lexer": "ipython2",
   "version": "2.7.11"
  }
 },
 "nbformat": 4,
 "nbformat_minor": 0
}
